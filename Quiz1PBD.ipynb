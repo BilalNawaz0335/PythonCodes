{
 "cells": [
  {
   "cell_type": "code",
   "execution_count": 14,
   "id": "aa193a30",
   "metadata": {},
   "outputs": [
    {
     "name": "stdout",
     "output_type": "stream",
     "text": [
      "PLEASE ENTER ANY NUMBER FROM 0 TO 35.\n",
      "34\n",
      "Y\n"
     ]
    }
   ],
   "source": [
    "x=int(input(\"PLEASE ENTER ANY NUMBER FROM 0 TO 35.\\n\"))\n",
    "if x>=0 and x<=9:\n",
    "    print(x)\n",
    "else:\n",
    "    x=x-10 # finding the difference in order to print letters.\n",
    "    x=chr(x+65) \n",
    "    # typecasted the x into character. 65 is the ascii of A \n",
    "    print(x)\n"
   ]
  },
  {
   "cell_type": "code",
   "execution_count": null,
   "id": "23f1c9a7",
   "metadata": {},
   "outputs": [],
   "source": []
  }
 ],
 "metadata": {
  "kernelspec": {
   "display_name": "Python 3 (ipykernel)",
   "language": "python",
   "name": "python3"
  },
  "language_info": {
   "codemirror_mode": {
    "name": "ipython",
    "version": 3
   },
   "file_extension": ".py",
   "mimetype": "text/x-python",
   "name": "python",
   "nbconvert_exporter": "python",
   "pygments_lexer": "ipython3",
   "version": "3.9.7"
  }
 },
 "nbformat": 4,
 "nbformat_minor": 5
}
